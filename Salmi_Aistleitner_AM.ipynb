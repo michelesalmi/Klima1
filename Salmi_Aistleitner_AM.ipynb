{
 "cells": [
  {
   "cell_type": "code",
   "execution_count": 9,
   "metadata": {},
   "outputs": [],
   "source": [
    "import xarray as xr\n",
    "import numpy as np\n",
    "import matplotlib.pyplot as plt\n",
    "import xarray\n",
    "import cartopy.crs as ccrs\n",
    "from scipy.signal import detrend\n",
    "from eofs.xarray import Eof\n",
    "import iris\n",
    "from eofs.multivariate.iris import MultivariateEof\n",
    "import iris.quickplot as qplt"
   ]
  },
  {
   "cell_type": "code",
   "execution_count": 10,
   "metadata": {},
   "outputs": [],
   "source": [
    "variable_mslp = [\"PRMSL_GDS0_MSL\",\"mslp\"]\n",
    "variable_rh = [\"RH_GDS0_ISBL\",\"rh\"]\n",
    "variable_spfh = [\"SPFH_GDS0_ISBL\",\"spfh\"]\n",
    "pfad = \"data/\""
   ]
  },
  {
   "cell_type": "code",
   "execution_count": 11,
   "metadata": {},
   "outputs": [],
   "source": [
    "def open_df(pfad):\n",
    "    df = xr.open_mfdataset(pfad+'/*.nc',chunks={'initial_time0_hours':504,'g0_lat_1':29,'g0_lon_2':29})\n",
    "    df = df.rename({'initial_time0_hours':'time','g0_lat_1':'lat','g0_lon_2':'lon'}).drop(\"initial_time0_encoded\")\n",
    "    df.coords['lon'] = (df.coords['lon'] + 180) % 360 - 180\n",
    "    return df\n",
    "def pref_df(ds_prep,window_size):\n",
    "        ds_prep = ds_prep.resample(time='1D').mean()\n",
    "        ds_prep = ds_prep.chunk({'time':-1})\n",
    "        ds_prep_roll = ds_prep.rolling(time=window_size, center=True).construct('window_dim')\n",
    "        ds_prep_clim = ds_prep_roll.groupby('time.dayofyear').mean(dim=['window_dim','time'])\n",
    "        ds_prep_std = ds_prep_roll.groupby('time.dayofyear').std(dim=xr.ALL_DIMS)\n",
    "        ds_prep = ds_prep.groupby('time.dayofyear') - ds_prep_clim\n",
    "        ds_prep = ds_prep.groupby('time.dayofyear') / ds_prep_std\n",
    "        ds_prep = ds_prep.chunk({'time': -1})\n",
    "        return ds_prep"
   ]
  },
  {
   "cell_type": "code",
   "execution_count": 12,
   "metadata": {},
   "outputs": [],
   "source": [
    "df = open_df(pfad)\n",
    "df = df.rename({variable_mslp[0]:variable_mslp[1],variable_rh[0]:variable_rh[1]\n",
    "                variable_spfh[0]:variable_spfh[1]}).drop(\"initial_time0\")\n",
    "df = pref_df(df,21)"
   ]
  },
  {
   "cell_type": "code",
   "execution_count": 13,
   "metadata": {},
   "outputs": [
    {
     "data": {
      "text/plain": [
       "<xarray.Dataset>\n",
       "Dimensions:    (lat: 29, lon: 29, time: 1461)\n",
       "Coordinates:\n",
       "  * lat        (lat) float32 67.5 66.25 65.0 63.75 ... 36.25 35.0 33.75 32.5\n",
       "  * lon        (lon) float32 -10.0 -8.75 -7.5 -6.25 ... 21.25 22.5 23.75 25.0\n",
       "  * time       (time) datetime64[ns] 1958-01-01 1958-01-02 ... 1961-12-31\n",
       "    dayofyear  (time) int64 dask.array<shape=(1461,), chunksize=(1461,)>\n",
       "Data variables:\n",
       "    mslp       (time, lat, lon) float32 dask.array<shape=(1461, 29, 29), chunksize=(1461, 29, 29)>\n",
       "    rh         (time, lat, lon) float32 dask.array<shape=(1461, 29, 29), chunksize=(1461, 29, 29)>\n",
       "    spfh       (time, lat, lon) float32 dask.array<shape=(1461, 29, 29), chunksize=(1461, 29, 29)>"
      ]
     },
     "execution_count": 13,
     "metadata": {},
     "output_type": "execute_result"
    }
   ],
   "source": [
    "df"
   ]
  },
  {
   "cell_type": "code",
   "execution_count": 14,
   "metadata": {},
   "outputs": [],
   "source": [
    "df_roll = df.rolling(time=21,center=True).construct(\"window_dim\")"
   ]
  },
  {
   "cell_type": "code",
   "execution_count": 63,
   "metadata": {},
   "outputs": [],
   "source": [
    "vars_list = []\n",
    "eofs_list = []\n",
    "pcs_list = []\n",
    "evs_list = []\n",
    "\n",
    "l = 0\n",
    "\n",
    "for day in df_roll.groupby(\"time.dayofyear\"):\n",
    "    cube = day[1].rename({\"time\":\n",
    "                          \"time_old\"}).stack(time = (\"time_old\",\n",
    "                                                            \"window_dim\")).reset_index(\"time\").transpose(\"time\",\n",
    "                                                                                                         \"lat\",\n",
    "                                                                                                         \"lon\").dropna(\"time\")\n",
    "    cube_mslp = cube.mslp.assign_coords(time=range(0,len(cube.time))).to_iris()\n",
    "    cube_rh = cube.rh.assign_coords(time=range(0,len(cube.time))).to_iris()\n",
    "    solver = MultivariateEof([cube_mslp,cube_rh],weights=\"coslat\")\n",
    "    \n",
    "    var = 0\n",
    "    i = 1\n",
    "    var_list = []\n",
    "    while var<=0.9:\n",
    "        v = solver.varianceFraction(neigs=i)\n",
    "        var = v.data.sum()\n",
    "        var_list += [var]\n",
    "        i += 1\n",
    "    \n",
    "    vars_list += [var_list]\n",
    "    eofs_list += [solver.eofs(neofs=i-1)[0]]\n",
    "    pcs_list += [solver.pcs(npcs=i-1)]\n",
    "    evs_list += [solver.eigenvalues(neigs=i-1)]\n",
    "    \n",
    "    l += 1\n",
    "    \n",
    "    if l == 3:\n",
    "        break"
   ]
  },
  {
   "cell_type": "code",
   "execution_count": 64,
   "metadata": {},
   "outputs": [
    {
     "data": {
      "text/plain": [
       "26"
      ]
     },
     "execution_count": 64,
     "metadata": {},
     "output_type": "execute_result"
    }
   ],
   "source": [
    "i"
   ]
  },
  {
   "cell_type": "code",
   "execution_count": 65,
   "metadata": {},
   "outputs": [
    {
     "data": {
      "text/plain": [
       "[<iris 'Cube' of empirical_orthogonal_functions / (unknown) (eof_number: 25; latitude: 29; lon: 29)>,\n",
       " <iris 'Cube' of empirical_orthogonal_functions / (unknown) (eof_number: 25; latitude: 29; lon: 29)>,\n",
       " <iris 'Cube' of empirical_orthogonal_functions / (unknown) (eof_number: 25; latitude: 29; lon: 29)>]"
      ]
     },
     "execution_count": 65,
     "metadata": {},
     "output_type": "execute_result"
    }
   ],
   "source": [
    "eofs_list"
   ]
  },
  {
   "cell_type": "code",
   "execution_count": 66,
   "metadata": {},
   "outputs": [
    {
     "data": {
      "text/plain": [
       "[<iris 'Cube' of principal_components / (unknown) (time: 74; pc_number: 25)>,\n",
       " <iris 'Cube' of principal_components / (unknown) (time: 75; pc_number: 25)>,\n",
       " <iris 'Cube' of principal_components / (unknown) (time: 76; pc_number: 25)>]"
      ]
     },
     "execution_count": 66,
     "metadata": {},
     "output_type": "execute_result"
    }
   ],
   "source": [
    "pcs_list"
   ]
  },
  {
   "cell_type": "code",
   "execution_count": 67,
   "metadata": {},
   "outputs": [
    {
     "data": {
      "text/plain": [
       "[<iris 'Cube' of eigenvalues / (unknown) (eigenvalue_number: 25)>,\n",
       " <iris 'Cube' of eigenvalues / (unknown) (eigenvalue_number: 25)>,\n",
       " <iris 'Cube' of eigenvalues / (unknown) (eigenvalue_number: 25)>]"
      ]
     },
     "execution_count": 67,
     "metadata": {},
     "output_type": "execute_result"
    }
   ],
   "source": [
    "evs_list"
   ]
  },
  {
   "cell_type": "code",
   "execution_count": 70,
   "metadata": {},
   "outputs": [
    {
     "data": {
      "text/plain": [
       "[[0.2393817,\n",
       "  0.36350918,\n",
       "  0.4436077,\n",
       "  0.51328325,\n",
       "  0.57874995,\n",
       "  0.6233544,\n",
       "  0.66166157,\n",
       "  0.68928623,\n",
       "  0.7129274,\n",
       "  0.73488665,\n",
       "  0.75489426,\n",
       "  0.7724559,\n",
       "  0.78784966,\n",
       "  0.8021059,\n",
       "  0.81472,\n",
       "  0.82625383,\n",
       "  0.83689886,\n",
       "  0.8468558,\n",
       "  0.8562296,\n",
       "  0.86488,\n",
       "  0.8733104,\n",
       "  0.88034004,\n",
       "  0.88731855,\n",
       "  0.89393985,\n",
       "  0.9003605],\n",
       " [0.23718588,\n",
       "  0.37137413,\n",
       "  0.44868883,\n",
       "  0.5206412,\n",
       "  0.5823832,\n",
       "  0.62903976,\n",
       "  0.66608524,\n",
       "  0.6919333,\n",
       "  0.7156405,\n",
       "  0.7371027,\n",
       "  0.7566246,\n",
       "  0.7734418,\n",
       "  0.7875813,\n",
       "  0.8016053,\n",
       "  0.8144645,\n",
       "  0.8256464,\n",
       "  0.83610225,\n",
       "  0.8460052,\n",
       "  0.8553104,\n",
       "  0.86389136,\n",
       "  0.87216806,\n",
       "  0.88020986,\n",
       "  0.8879776,\n",
       "  0.89452016,\n",
       "  0.90090406],\n",
       " [0.23182446,\n",
       "  0.3747436,\n",
       "  0.44913125,\n",
       "  0.52242833,\n",
       "  0.58473486,\n",
       "  0.63014734,\n",
       "  0.6659026,\n",
       "  0.692611,\n",
       "  0.7167016,\n",
       "  0.7386468,\n",
       "  0.7576325,\n",
       "  0.7739552,\n",
       "  0.7895983,\n",
       "  0.80367005,\n",
       "  0.8163301,\n",
       "  0.8269446,\n",
       "  0.8373766,\n",
       "  0.84695786,\n",
       "  0.8561619,\n",
       "  0.86531156,\n",
       "  0.873384,\n",
       "  0.88131785,\n",
       "  0.8890024,\n",
       "  0.8957608,\n",
       "  0.90180826]]"
      ]
     },
     "execution_count": 70,
     "metadata": {},
     "output_type": "execute_result"
    }
   ],
   "source": [
    "vars_list"
   ]
  },
  {
   "cell_type": "code",
   "execution_count": 71,
   "metadata": {},
   "outputs": [
    {
     "data": {
      "image/png": "[encoded data removed]",
      "text/plain": [
       "<Figure size 432x288 with 2 Axes>"
      ]
     },
     "metadata": {
      "needs_background": "light"
     },
     "output_type": "display_data"
    }
   ],
   "source": [
    "plt.axes(projection=ccrs.PlateCarree())\n",
    "qplt.contourf(eofs_list[0][0])\n",
    "plt.gca().coastlines()\n",
    "plt.show()"
   ]
  }
 ],
 "metadata": {
  "kernelspec": {
   "display_name": "Python 3",
   "language": "python",
   "name": "python3"
  },
  "language_info": {
   "codemirror_mode": {
    "name": "ipython",
    "version": 3
   },
   "file_extension": ".py",
   "mimetype": "text/x-python",
   "name": "python",
   "nbconvert_exporter": "python",
   "pygments_lexer": "ipython3",
   "version": "3.7.3"
  }
 },
 "nbformat": 4,
 "nbformat_minor": 2
}
