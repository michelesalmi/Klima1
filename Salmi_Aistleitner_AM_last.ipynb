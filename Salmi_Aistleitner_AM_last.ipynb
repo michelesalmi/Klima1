{
 "cells": [
  {
   "cell_type": "code",
   "execution_count": 1,
   "metadata": {},
   "outputs": [],
   "source": [
    "import xarray as xr\n",
    "import numpy as np\n",
    "import matplotlib.pyplot as plt\n",
    "import xarray\n",
    "import cartopy.crs as ccrs\n",
    "from scipy.signal import detrend\n",
    "from eofs.xarray import Eof\n",
    "import iris\n",
    "from eofs.multivariate.iris import MultivariateEof\n",
    "import iris.quickplot as qplt\n",
    "from tempfile import TemporaryFile"
   ]
  },
  {
   "cell_type": "code",
   "execution_count": 2,
   "metadata": {},
   "outputs": [
    {
     "data": {
      "text/plain": [
       "<xarray.Dataset>\n",
       "Dimensions:    (lat: 29, lon: 29, time: 5113)\n",
       "Coordinates:\n",
       "  * lat        (lat) float32 67.5 66.25 65.0 63.75 ... 36.25 35.0 33.75 32.5\n",
       "  * lon        (lon) float32 -10.0 -8.75 -7.5 -6.25 ... 21.25 22.5 23.75 25.0\n",
       "  * time       (time) datetime64[ns] 1958-01-01 1958-01-02 ... 1971-12-31\n",
       "    dayofyear  (time) int64 ...\n",
       "Data variables:\n",
       "    mslp       (time, lat, lon) float32 ...\n",
       "    rh         (time, lat, lon) float32 ...\n",
       "    spfh       (time, lat, lon) float32 ..."
      ]
     },
     "execution_count": 2,
     "metadata": {},
     "output_type": "execute_result"
    }
   ],
   "source": [
    "ds_anom = xr.open_dataset('Anomalien.nc')\n",
    "ds_anom"
   ]
  },
  {
   "cell_type": "code",
   "execution_count": 3,
   "metadata": {},
   "outputs": [
    {
     "data": {
      "text/plain": [
       "['eofs', 'neofs', 'pcs', 'evs', 'var', 'solvers']"
      ]
     },
     "execution_count": 3,
     "metadata": {},
     "output_type": "execute_result"
    }
   ],
   "source": [
    "eof_analyse = np.load('EOFs_Analyse.npz')\n",
    "eof_analyse.files"
   ]
  },
  {
   "cell_type": "code",
   "execution_count": 10,
   "metadata": {},
   "outputs": [
    {
     "data": {
      "text/plain": [
       "<xarray.DataArray 'eofs' (eof: 43, lat: 29, lon: 29)>\n",
       "array([[[ 0.012103,  0.013024, ...,  0.013636,  0.013319],\n",
       "        [ 0.015197,  0.016359, ...,  0.016004,  0.015676],\n",
       "        ...,\n",
       "        [-0.002769, -0.002672, ..., -0.001984, -0.001809],\n",
       "        [-0.003757, -0.003671, ..., -0.002557, -0.002381]],\n",
       "\n",
       "       [[ 0.03811 ,  0.037692, ...,  0.005183,  0.004432],\n",
       "        [ 0.040764,  0.040298, ...,  0.005113,  0.004357],\n",
       "        ...,\n",
       "        [-0.028844, -0.027725, ...,  0.000771,  0.001769],\n",
       "        [-0.024625, -0.023678, ...,  0.001176,  0.002197]],\n",
       "\n",
       "       ...,\n",
       "\n",
       "       [[ 0.010578,  0.009715, ...,  0.015322,  0.015558],\n",
       "        [ 0.008386,  0.007739, ...,  0.015868,  0.015768],\n",
       "        ...,\n",
       "        [-0.009897, -0.009856, ..., -0.005943, -0.006437],\n",
       "        [-0.008447, -0.00821 , ..., -0.008406, -0.008711]],\n",
       "\n",
       "       [[ 0.028295,  0.027687, ..., -0.004516, -0.004199],\n",
       "        [ 0.027595,  0.027342, ..., -0.008161, -0.007961],\n",
       "        ...,\n",
       "        [-0.000797, -0.001986, ..., -0.007487, -0.005963],\n",
       "        [-0.000438, -0.001122, ..., -0.007193, -0.005814]]], dtype=float32)\n",
       "Coordinates:\n",
       "  * eof      (eof) int32 0 1 2 3 4 5 6 7 8 9 ... 33 34 35 36 37 38 39 40 41 42\n",
       "  * lat      (lat) float32 67.5 66.25 65.0 63.75 62.5 ... 36.25 35.0 33.75 32.5\n",
       "  * lon      (lon) float32 -10.0 -8.75 -7.5 -6.25 -5.0 ... 21.25 22.5 23.75 25.0\n",
       "Attributes:\n",
       "    long_name:  empirical_orthogonal_functions"
      ]
     },
     "execution_count": 10,
     "metadata": {},
     "output_type": "execute_result"
    }
   ],
   "source": [
    "eof_analyse['eofs'][0]"
   ]
  },
  {
   "cell_type": "code",
   "execution_count": 7,
   "metadata": {},
   "outputs": [
    {
     "data": {
      "text/plain": [
       "<xarray.Dataset>\n",
       "Dimensions:                  (time: 20819, x: 585, y: 314)\n",
       "Coordinates:\n",
       "  * x                        (x) float64 1.115e+05 1.125e+05 ... 6.955e+05\n",
       "  * y                        (y) float64 2.745e+05 2.755e+05 ... 5.875e+05\n",
       "  * time                     (time) datetime64[ns] 1961-01-01 ... 2017-12-31\n",
       "Data variables:\n",
       "    RR                       (time, y, x) float64 dask.array<shape=(20819, 314, 585), chunksize=(365, 314, 585)>\n",
       "    lon                      (time, y, x) float32 dask.array<shape=(20819, 314, 585), chunksize=(365, 314, 585)>\n",
       "    lat                      (time, y, x) float32 dask.array<shape=(20819, 314, 585), chunksize=(365, 314, 585)>\n",
       "    dem                      (time, y, x) int16 dask.array<shape=(20819, 314, 585), chunksize=(365, 314, 585)>\n",
       "    mask                     (time, y, x) int16 dask.array<shape=(20819, 314, 585), chunksize=(365, 314, 585)>\n",
       "    RR_area_mean             (time) float64 dask.array<shape=(20819,), chunksize=(365,)>\n",
       "    RR_area_minimum          (time) float64 dask.array<shape=(20819,), chunksize=(365,)>\n",
       "    RR_area_maximum          (time) float64 dask.array<shape=(20819,), chunksize=(365,)>\n",
       "    lambert_conformal_conic  (time) |S1 b'' b'' b'' b'' b'' ... b'' b'' b'' b''\n",
       "    SPEI                     (time, y, x) float32 dask.array<shape=(20819, 314, 585), chunksize=(365, 314, 585)>\n",
       "    SPEI_area_mean           (time) float32 dask.array<shape=(20819,), chunksize=(365,)>\n",
       "    SPEI_area_minimum        (time) float32 dask.array<shape=(20819,), chunksize=(365,)>\n",
       "    SPEI_area_maximum        (time) float32 dask.array<shape=(20819,), chunksize=(365,)>\n",
       "    Tn                       (time, y, x) float64 dask.array<shape=(20819, 314, 585), chunksize=(365, 314, 585)>\n",
       "    Tn_area_mean             (time) float64 dask.array<shape=(20819,), chunksize=(365,)>\n",
       "    Tn_area_minimum          (time) float64 dask.array<shape=(20819,), chunksize=(365,)>\n",
       "    Tn_area_maximum          (time) float64 dask.array<shape=(20819,), chunksize=(365,)>\n",
       "    Tx                       (time, y, x) float64 dask.array<shape=(20819, 314, 585), chunksize=(365, 314, 585)>\n",
       "    Tx_area_mean             (time) float64 dask.array<shape=(20819,), chunksize=(365,)>\n",
       "    Tx_area_minimum          (time) float64 dask.array<shape=(20819,), chunksize=(365,)>\n",
       "    Tx_area_maximum          (time) float64 dask.array<shape=(20819,), chunksize=(365,)>\n",
       "Attributes:\n",
       "    title:          SPARTACUS - Spatial Reanalysis Dataset for Climate in Aus...\n",
       "    institution:    ZAMG - Zentralanstalt fuer Meteorologie und Geodynamik, V...\n",
       "    source:         geostatistical interpolation of surface station observations\n",
       "    references:     doi:10.1007/s00704-017-2093-x, http://www.zamg.ac.at/cms/...\n",
       "    contact:        Johann Hiebl (johann.hiebl@zamg.ac.at)\n",
       "    Conventions:    CF-1.6\n",
       "    creation_date:  2017-06-30 14:14:07"
      ]
     },
     "execution_count": 7,
     "metadata": {},
     "output_type": "execute_result"
    }
   ],
   "source": [
    "sparta = xr.open_mfdataset('sparta/*.nc')\n",
    "sparta"
   ]
  }
 ],
 "metadata": {
  "kernelspec": {
   "display_name": "Python 3",
   "language": "python",
   "name": "python3"
  },
  "language_info": {
   "codemirror_mode": {
    "name": "ipython",
    "version": 3
   },
   "file_extension": ".py",
   "mimetype": "text/x-python",
   "name": "python",
   "nbconvert_exporter": "python",
   "pygments_lexer": "ipython3",
   "version": "3.7.3"
  }
 },
 "nbformat": 4,
 "nbformat_minor": 2
}
